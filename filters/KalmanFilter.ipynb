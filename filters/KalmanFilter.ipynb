{
  "nbformat": 4,
  "nbformat_minor": 0,
  "metadata": {
    "colab": {
      "name": "KalmanFilter.ipynb",
      "version": "0.3.2",
      "provenance": [],
      "include_colab_link": true
    },
    "kernelspec": {
      "name": "python3",
      "display_name": "Python 3"
    }
  },
  "cells": [
    {
      "cell_type": "markdown",
      "metadata": {
        "id": "view-in-github",
        "colab_type": "text"
      },
      "source": [
        "<a href=\"https://colab.research.google.com/github/lsmanoel/Python_DSP/blob/master/filters/KalmanFilter.ipynb\" target=\"_parent\"><img src=\"https://colab.research.google.com/assets/colab-badge.svg\" alt=\"Open In Colab\"/></a>"
      ]
    },
    {
      "metadata": {
        "id": "Wv85v_UO5-q9",
        "colab_type": "text"
      },
      "cell_type": "markdown",
      "source": [
        "# Kalman Filter\n",
        "\n",
        "source: [Implementation of Kalman Filter with Python Language  ](https://arxiv.org/pdf/1204.0375.pdf) by Mohamed LAARAIEDH "
      ]
    },
    {
      "metadata": {
        "id": "9LXOixZHckLd",
        "colab_type": "text"
      },
      "cell_type": "markdown",
      "source": [
        "The state space  representation of Kalman Filter:\n",
        "\n",
        "$$ x(k) = \\textbf{A}x(k-1)+\\textbf{B}u(k)+w(k-1) $$\n",
        "$$ y(k) = \\textbf{H}x(k) + v(k) $$\n",
        "\n",
        "The random variables $w$ and $v$ represent the process and measurement white noise respectively:\n",
        "\n",
        "$$p(w) \\simeq N(0, Q)$$\n",
        "$$p(v) \\simeq N(0, R)$$\n",
        "\n",
        "The process of this filter is composed of two steps:\n",
        "\n",
        "*   Prediction step:\n",
        "$$x⁻(k) = \\textbf{A}x(k-1)+\\textbf{B}u(k)$$\n",
        "$$P⁻(k) = \\textbf{A}P(k-1)\\textbf{A}^{T}+Q(k-1)$$\n",
        "*   Update step:\n",
        "$$v(k) = y(k) - \\textbf{H}x⁻(k) $$\n",
        "$$s(k) = \\textbf{H}P⁻(k)\\textbf{H}^{T} + R(k)$$\n",
        "$$K(k) = P⁻(k)\\textbf{H}^{T}s^{-1}(k)$$\n",
        "$$x(k) = x⁻(k) + K(k)v(k)$$\n",
        "$$P(k) = P⁻(k) - K(k)s(k)K^{T}(k)$$\n",
        "\n",
        "$x⁻(k)$ and $P⁻(k)$ are the predicted mean and covariance of the state, respectively, on the time step k before seeing the measurement.\n",
        "\n",
        "$x⁻(k)$ and $P⁻(k)$ are the estimated mean and covariance of the state, respectively, on time step k after seeing the measurement.\n",
        "\n",
        "$y(k)$ is mean of the measurement on time step k .\n",
        "\n",
        "$v(k)$ is the innovation or the measurement residual on time step k .\n",
        "\n",
        "$s(k)$ is the measurement prediction covariance on the time step k .\n",
        "\n",
        "$K(k)$ is the filter gain, which tells how much the predictions should be corrected on time step k ."
      ]
    },
    {
      "metadata": {
        "id": "aWMQuguA3vs9",
        "colab_type": "text"
      },
      "cell_type": "markdown",
      "source": [
        "The step has to predict the mean X and the covariance P of the system state at the time step k.\n",
        "\n",
        "\n",
        ">X : The mean state estimate of the previous step ( k −1).\n",
        "\n",
        ">P : The state covariance of previous step ( k −1).\n",
        "\n",
        ">A : The transition n n × matrix.\n",
        "\n",
        ">Q : The process noise covariance matrix.\n",
        "\n",
        ">B : The input effect matrix.\n",
        "\n",
        ">U : The control input.\n",
        "\n",
        "\n",
        "\n",
        "\n",
        "\n",
        "\n"
      ]
    },
    {
      "metadata": {
        "id": "un8qs-2xb_sI",
        "colab_type": "code",
        "colab": {}
      },
      "cell_type": "code",
      "source": [
        "from numpy import dot\n",
        "\n",
        "def kf_predict(X, P, A, Q, B, U):\n",
        "  X = dot(A, X) + dot(B, U)\n",
        "  P = dot(A, dot(P, A.T)) + Q\n",
        "  return(X, P)"
      ],
      "execution_count": 0,
      "outputs": []
    },
    {
      "metadata": {
        "id": "mRuk0XE74L4U",
        "colab_type": "text"
      },
      "cell_type": "markdown",
      "source": [
        "At the time step k, this update step computes the posterior mean X and covariance P of the system state given a ney measurement Y. The function kf_update() performs the update of X and P giving the predicted X and P matrices, the measurement vector Y, the measurement matrix H and the measurement  covariance matrix R.\n",
        "\n",
        ">K : the Kalman Gain matrix\n",
        "\n",
        ">IM : the Mean of predictive distribution of Y\n",
        "\n",
        ">IS : the Covariance or predictive mean of Y\n",
        "\n",
        ">LH : the Predictive probability (likelihood) of measurement which is\n",
        "computed using the Python function gauss_pdf().\n"
      ]
    },
    {
      "metadata": {
        "id": "_7tPAetOm9yK",
        "colab_type": "code",
        "colab": {}
      },
      "cell_type": "code",
      "source": [
        "from numpy import dot\n",
        "\n",
        "def kf_update(X, P, Y, H, R):\n",
        "  IM = dot(H, X)\n",
        "  IS = R + dot(H, dot(P, H.T))\n",
        "  K = dot(P, dot(H.T, inv(IS)))\n",
        "  X = X + dot(K, (Y-IM))\n",
        "  P = P - dot(K, dot(IS, K.T))\n",
        "  LH = gauss_pdf(Y, IM, IS)\n",
        "  return (X, P, K, IM, IS, LH)"
      ],
      "execution_count": 0,
      "outputs": []
    },
    {
      "metadata": {
        "id": "TaUjfhCZnEeG",
        "colab_type": "code",
        "colab": {}
      },
      "cell_type": "code",
      "source": [
        "from numpy import dot\n",
        "from numpy.linalg import det\n",
        "\n",
        "def gauss_pdf(X, M, S):\n",
        "  if M.shape[1] == 1:\n",
        "    DX = X - tile(M, X.shape[1])\n",
        "    E = 0.5 * sum(DX * (dot(inv(S), DX)), axis=0)\n",
        "    E = E + 0.5 * M.shape[0] * log(2 * pi) + 0.5 * log(det(S))\n",
        "    P = exp(-E)\n",
        "  elif X.shape[1] == 1:\n",
        "    DX = tile(X, M.shape[1])- M\n",
        "    E = 0.5 * sum(DX * (dot(inv(S), DX)), axis=0)\n",
        "    E = E + 0.5 * M.shape[0] * log(2 * pi) + 0.5 * log(det(S))\n",
        "    P = exp(-E)\n",
        "  else:\n",
        "    DX = X-M\n",
        "    E = 0.5 * dot(DX.T, dot(inv(S), DX))\n",
        "    E = E + 0.5 * M.shape[0] * log(2 * pi) + 0.5 * log(det(S))\n",
        "    P = exp(-E)\n",
        "  return (P[0],E[0])"
      ],
      "execution_count": 0,
      "outputs": []
    },
    {
      "metadata": {
        "id": "MNn3aQP9ofcD",
        "colab_type": "code",
        "colab": {}
      },
      "cell_type": "code",
      "source": [
        "import numpy as np\n",
        "\n",
        "def randn(n):\n",
        "  return np.random.normal(0, 0.5, n)"
      ],
      "execution_count": 0,
      "outputs": []
    },
    {
      "metadata": {
        "id": "jvnsgfZL5stf",
        "colab_type": "text"
      },
      "cell_type": "markdown",
      "source": [
        "**Example of application: Tracking of mobile in wireless\n",
        "network:**\n",
        "\n",
        "The most interesting field of application of Kalman Filter, in telecommunications, is\n",
        "the tracking of a mobile user connected to a wireless network. In this section, we\n",
        "will present a simple tracking algorithm of a mobile user who is moving in a room\n",
        "and connected to at least three wireless antennas.\n",
        "The matrix of measurement Y describes the estimated position of the mobile using a\n",
        "trilateration algorithm based on a least square estimation and the knowledge of at\n",
        "least three values of Time of Arrival (ToA) at time step k . These values are\n",
        "computed using ranging procedures between the mobile and the three antennas.\n",
        "Starting by an initialization of different matrices and using the updated matrices for\n",
        "each step and iteration, we plot in Fig- 1 the estimated, the real trajectory of the\n",
        "mobile user, and the measurements performed by the least square based trilateration.\n",
        "We show here that the Kalman Filter enhances the accuracy of tracking compared to\n",
        "the static least square based estimation. The Python code describing the tracking\n",
        "process is given as below. In order to simplify the understanding of this code, we\n",
        "draw the matrix Y randomly centered on the true value of mobile position."
      ]
    },
    {
      "metadata": {
        "id": "UVVAWU--nJbS",
        "colab_type": "code",
        "colab": {
          "base_uri": "https://localhost:8080/",
          "height": 282
        },
        "outputId": "a7f37174-def6-4bf2-bd79-2e58392d2245"
      },
      "cell_type": "code",
      "source": [
        "import numpy as np\n",
        "from numpy import *\n",
        "from numpy.linalg import inv\n",
        "import matplotlib.pyplot as plt\n",
        "%matplotlib inline\n",
        "\n",
        "#time step of mobile movement\n",
        "dt = 0.1\n",
        "\n",
        "# Initialization of state matrices\n",
        "X = array([[0.0], [0.0], [0.1], [0.1]])\n",
        "P = diag((0.01, 0.01, 0.01, 0.01))\n",
        "A = array([[1, 0, dt , 0], [0, 1, 0, dt], [0, 0, 1, 0], [0, 0, 0, 1]])\n",
        "Q = eye(X.shape[0])\n",
        "B = eye(X.shape[0])\n",
        "U = zeros((X.shape[0],1))\n",
        "\n",
        "# Measurement matrices\n",
        "Y = array([[X[0,0] + abs(randn(1)[0])], [X[1,0] + abs(randn(1)[0])]])\n",
        "H = array([[1, 0, 0, 0], [0, 1, 0, 0]])\n",
        "R = eye(Y.shape[0])\n",
        "\n",
        "# Number of iterations in Kalman Filter\n",
        "N_iter = 50\n",
        "\n",
        "# Applying the Kalman Filter\n",
        "\n",
        "IMplotOut = np.zeros((IM.shape[0], N_iter))\n",
        "YplotOut = np.zeros((Y.shape[0], N_iter))\n",
        "print(plotOut.shape)\n",
        "for i in arange(0, N_iter):\n",
        "  (X, P) = kf_predict(X, P, A, Q, B, U)\n",
        "  (X, P, K, IM, IS, LH) = kf_update(X, P, Y, H, R)\n",
        "  Y = array([[X[0, 0] + abs(0.1 * randn(1)[0])], [X[1, 0] + abs(0.1 * randn(1)[0])]])\n",
        "  IMplotOut[:, i] = IM[:, 0]\n",
        "  YplotOut[:, i] = Y[:, 0]\n",
        "  \n",
        "  \n",
        "  \n",
        "plt.plot(IMplotOut[0, :])\n",
        "plt.plot(YplotOut[0, :])\n",
        "plt.plot(IMplotOut[1, :])\n",
        "plt.plot(YplotOut[1, :])\n",
        "plt.show()"
      ],
      "execution_count": 12,
      "outputs": [
        {
          "output_type": "stream",
          "text": [
            "(2, 50)\n"
          ],
          "name": "stdout"
        },
        {
          "output_type": "display_data",
          "data": {
            "image/png": "[encoded data removed]",
            "text/plain": [
              "<Figure size 432x288 with 1 Axes>"
            ]
          },
          "metadata": {
            "tags": []
          }
        }
      ]
    }
  ]
}