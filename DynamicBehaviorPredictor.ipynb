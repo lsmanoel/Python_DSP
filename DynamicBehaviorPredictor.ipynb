{
  "nbformat": 4,
  "nbformat_minor": 0,
  "metadata": {
    "colab": {
      "name": "DynamicBehaviorPredictor.ipynb",
      "version": "0.3.2",
      "provenance": [],
      "collapsed_sections": [],
      "include_colab_link": true
    },
    "kernelspec": {
      "name": "python3",
      "display_name": "Python 3"
    }
  },
  "cells": [
    {
      "cell_type": "markdown",
      "metadata": {
        "id": "view-in-github",
        "colab_type": "text"
      },
      "source": [
        "<a href=\"https://colab.research.google.com/github/lsmanoel/Python_DSP/blob/master/DynamicBehaviorPredictor.ipynb\" target=\"_parent\"><img src=\"https://colab.research.google.com/assets/colab-badge.svg\" alt=\"Open In Colab\"/></a>"
      ]
    },
    {
      "metadata": {
        "id": "Ll0bzFFF9T7A",
        "colab_type": "code",
        "colab": {}
      },
      "cell_type": "code",
      "source": [
        "import numpy as np\n",
        "import tensorflow as tf\n",
        "import matplotlib.pyplot as plt\n",
        "%matplotlib inline"
      ],
      "execution_count": 0,
      "outputs": []
    },
    {
      "metadata": {
        "id": "6IsJa586mE_6",
        "colab_type": "code",
        "outputId": "8597445f-a363-4126-c941-4f82567985f8",
        "colab": {
          "base_uri": "https://localhost:8080/",
          "height": 199
        }
      },
      "cell_type": "code",
      "source": [
        "# !pip install slycot   # optional\n",
        "!pip install control"
      ],
      "execution_count": 0,
      "outputs": [
        {
          "output_type": "stream",
          "text": [
            "Requirement already satisfied: control in /usr/local/lib/python3.6/dist-packages (0.8.1)\n",
            "Requirement already satisfied: matplotlib in /usr/local/lib/python3.6/dist-packages (from control) (3.0.2)\n",
            "Requirement already satisfied: scipy in /usr/local/lib/python3.6/dist-packages (from control) (1.1.0)\n",
            "Requirement already satisfied: numpy in /usr/local/lib/python3.6/dist-packages (from control) (1.14.6)\n",
            "Requirement already satisfied: cycler>=0.10 in /usr/local/lib/python3.6/dist-packages (from matplotlib->control) (0.10.0)\n",
            "Requirement already satisfied: kiwisolver>=1.0.1 in /usr/local/lib/python3.6/dist-packages (from matplotlib->control) (1.0.1)\n",
            "Requirement already satisfied: pyparsing!=2.0.4,!=2.1.2,!=2.1.6,>=2.0.1 in /usr/local/lib/python3.6/dist-packages (from matplotlib->control) (2.3.1)\n",
            "Requirement already satisfied: python-dateutil>=2.1 in /usr/local/lib/python3.6/dist-packages (from matplotlib->control) (2.5.3)\n",
            "Requirement already satisfied: six in /usr/local/lib/python3.6/dist-packages (from cycler>=0.10->matplotlib->control) (1.11.0)\n",
            "Requirement already satisfied: setuptools in /usr/local/lib/python3.6/dist-packages (from kiwisolver>=1.0.1->matplotlib->control) (40.6.3)\n"
          ],
          "name": "stdout"
        }
      ]
    },
    {
      "metadata": {
        "id": "Z1zXk7RDnps2",
        "colab_type": "code",
        "colab": {}
      },
      "cell_type": "code",
      "source": [
        "import seaborn as sns # results in a look people say is modern\n",
        "import numpy as np\n",
        "import scipy as sp\n",
        "from scipy import arange \n",
        "\n",
        "#-------------------------------------------------------------------------------\n",
        "import matplotlib.pyplot as plt\n",
        "from matplotlib.pyplot  import *\n",
        "%matplotlib inline\n",
        "\n",
        "#plt.rcParams['figure.figsize'] = (20.0, 15.0) # figure size for static inline plots\n",
        "\n",
        "#%matplotlib nbagg \n",
        "# inline figures become interactive\n",
        "\n",
        "#%matplotlib qt \n",
        "# in case non-inline / external figures are wanted\n",
        "#-------------------------------------------------------------------------------\n",
        "\n",
        "import control as pc\n",
        "from control.matlab import * "
      ],
      "execution_count": 0,
      "outputs": []
    },
    {
      "metadata": {
        "id": "9zWk3TopwrGZ",
        "colab_type": "text"
      },
      "cell_type": "markdown",
      "source": [
        "[python-control documentation](https://python-control.readthedocs.io/en/0.8.1/intro.html)\n",
        "\n",
        "[github.com/python-control](https://github.com/python-control)"
      ]
    },
    {
      "metadata": {
        "id": "4Zdj9M9frWbl",
        "colab_type": "text"
      },
      "cell_type": "markdown",
      "source": [
        "# Sallen–Key Low-Pass topology \n",
        "\n",
        "> ![alt text](https://upload.wikimedia.org/wikipedia/commons/thumb/3/3f/Sallen-Key_Lowpass_General.svg/1024px-Sallen-Key_Lowpass_General.svg.png)\n",
        "\n",
        "\n",
        "**Represetation with Transfer Function:**\n",
        "$$\n",
        "\tG(s) = \\frac{1}{R_1R_2C_1C_2s^2 + (R_1+R_2)C_2s + 1}\n",
        "$$"
      ]
    },
    {
      "metadata": {
        "id": "Zs9rijUMoYbL",
        "colab_type": "code",
        "outputId": "f333b4ef-50a8-4614-fe74-1674bc6151e5",
        "colab": {
          "base_uri": "https://localhost:8080/",
          "height": 90
        }
      },
      "cell_type": "code",
      "source": [
        "R1 = 68.0e3\n",
        "R2 = 16.0e3\n",
        "C1 = 680.0e-9\n",
        "C2 = 100.0e-9\n",
        "\n",
        "Gs = pc.tf([1.], [R1*R2*C1*C2, (R1+R2)*C2, 1])  # first order system   \n",
        "display(Gs)"
      ],
      "execution_count": 0,
      "outputs": [
        {
          "output_type": "display_data",
          "data": {
            "text/plain": [
              "\n",
              "              1\n",
              "----------------------------\n",
              "7.398e-05 s^2 + 0.0084 s + 1"
            ]
          },
          "metadata": {
            "tags": []
          }
        }
      ]
    },
    {
      "metadata": {
        "id": "BnUf8Kg9tfQl",
        "colab_type": "code",
        "outputId": "1c2ae6a0-6a6a-428a-b530-ea504d30ed3c",
        "colab": {
          "base_uri": "https://localhost:8080/",
          "height": 265
        }
      },
      "cell_type": "code",
      "source": [
        "(y, t) = step(Gs)\n",
        "\n",
        "fig, ax = plt.subplots()\n",
        "ax.plot(t, y)\n",
        "\n",
        "#===============================================================================\n",
        "bbox = dict(boxstyle=\"round\", fc=\"0.8\")\n",
        "arrowprops = dict(\n",
        "    arrowstyle = \"->\",\n",
        "    connectionstyle = \"angle,angleA=0,angleB=90,rad=10\")\n",
        "\n",
        "#-------------------------------------------------------------------------------\n",
        "max_overshot = (t[np.argmax(y)], np.max(y))\n",
        "\n",
        "offset = 90\n",
        "ax.annotate('Max Overshoot = (%.3f, %.3f)'%max_overshot,\n",
        "            max_overshot, \n",
        "            xytext=(0.5*offset, -offset), \n",
        "            textcoords='offset points',\n",
        "            bbox=bbox, \n",
        "            arrowprops=arrowprops)\n",
        "\n",
        "#-------------------------------------------------------------------------------\n",
        "y_offset = y - 1.05\n",
        "ts_5_arg = np.argmin(abs(y_offset))\n",
        "ts_5 = (t[ts_5_arg], y[ts_5_arg])\n",
        "\n",
        "\n",
        "offset = 45\n",
        "ax.annotate('Ts 5 percent= (%.3f, %.3f)'%ts_5,\n",
        "            ts_5, \n",
        "            xytext=(0.5*offset, -offset), \n",
        "            textcoords='offset points',\n",
        "            bbox=bbox, \n",
        "            arrowprops=arrowprops)\n",
        "\n",
        "#-------------------------------------------------------------------------------\n",
        "plt.show()"
      ],
      "execution_count": 0,
      "outputs": [
        {
          "output_type": "display_data",
          "data": {
            "image/png": "[encoded data removed]",
            "text/plain": [
              "<Figure size 432x288 with 1 Axes>"
            ]
          },
          "metadata": {
            "tags": []
          }
        }
      ]
    },
    {
      "metadata": {
        "id": "KUiihNzirJ02",
        "colab_type": "code",
        "colab": {}
      },
      "cell_type": "code",
      "source": [
        ""
      ],
      "execution_count": 0,
      "outputs": []
    },
    {
      "metadata": {
        "id": "WWP5ko0BijVS",
        "colab_type": "code",
        "outputId": "ceb57a50-a658-4450-98ca-8350987c480c",
        "colab": {
          "base_uri": "https://localhost:8080/",
          "height": 284
        }
      },
      "cell_type": "code",
      "source": [
        "import numpy as np\n",
        "import matplotlib.pyplot as plt\n",
        "\n",
        "fs = 8000\n",
        "Ts = 1/fs\n",
        "\n",
        "u_zero = np.zeros(fs)\n",
        "u_one = np.ones(fs)\n",
        "u_ramp = np.linspace(0, 1, fs)\n",
        "\n",
        "u=np.concatenate((u_zero, 2*u_ramp), axis=0)\n",
        "u=np.concatenate((u, 2*u_one), axis=0)\n",
        "u=np.concatenate((u, u_zero), axis=0)\n",
        "u=np.concatenate((u, 3*u_ramp), axis=0)\n",
        "u=np.concatenate((u, -3*u_ramp + 3), axis=0)\n",
        "u=np.concatenate((u, u_one + 3), axis=0)\n",
        "u=np.concatenate((u, u_zero), axis=0)\n",
        "\n",
        "t = np.linspace(0, 1, 8*fs)\n",
        "plt.plot(t, u)\n",
        "\n",
        "Ts, yout, xout = pc.forced_response(Gs, t, u)\n",
        "\n",
        "plt.plot(t, yout)"
      ],
      "execution_count": 0,
      "outputs": [
        {
          "output_type": "execute_result",
          "data": {
            "text/plain": [
              "[<matplotlib.lines.Line2D at 0x7f78d9b2e5c0>]"
            ]
          },
          "metadata": {
            "tags": []
          },
          "execution_count": 6
        },
        {
          "output_type": "display_data",
          "data": {
            "image/png": "[encoded data removed]",
            "text/plain": [
              "<Figure size 432x288 with 1 Axes>"
            ]
          },
          "metadata": {
            "tags": []
          }
        }
      ]
    },
    {
      "metadata": {
        "id": "VGXHT3nDrLEV",
        "colab_type": "text"
      },
      "cell_type": "markdown",
      "source": [
        "---\n",
        "# Dataset Generator:\n",
        "\n",
        "\n",
        "\n"
      ]
    },
    {
      "metadata": {
        "id": "wINq7Wi1AOjy",
        "colab_type": "code",
        "colab": {}
      },
      "cell_type": "code",
      "source": [
        "class ShapesSeriesData():\n",
        "  \n",
        "  def __init__(self):\n",
        "    print(\"ShapeSeriesData Instantiated\")\n",
        "    \n",
        "  #-----------------------------------------------------------------------------  \n",
        "  def mount_ShapeSeries(self, shape_Num, shape_Size, shape_MaxOrder):    \n",
        "    shape_MaxSize = shape_Num\n",
        "    ShapeSeries  = np.ones((shape_Num, shape_Size, 1))\n",
        "    start_lavel = 1e-15\n",
        "    for i in range(ShapeSeries.shape[0]):\n",
        "      \n",
        "      shape= self.next_random_shape(last_lavel = start_lavel, \n",
        "                                    shape_MaxSize = shape_Size, \n",
        "                                    shape_MaxOrder = shape_MaxOrder)\n",
        "        \n",
        "      ShapeSeries[i,:, 0] = start_lavel*ShapeSeries[i,:, 0]\n",
        "      ShapeSeries[i,-len(shape):, 0] = shape[:, 0]\n",
        "      \n",
        "    return ShapeSeries\n",
        "\n",
        "  #-----------------------------------------------------------------------------\n",
        "  def next_random_shape(self, last_lavel, shape_MaxSize, shape_MaxOrder):\n",
        "\n",
        "    rand_size = int(shape_MaxSize*(0.80+0.20*np.random.rand()))+1\n",
        "\n",
        "    rand_order = int(shape_MaxOrder*np.random.rand())\n",
        "\n",
        "    rand_level = np.random.rand()\n",
        "    \n",
        "    datafeed = rand_level*np.ones((rand_size, 1))\n",
        "    if rand_order > 0:\n",
        "      for _ in range(rand_order):\n",
        "        datafeed[:,0] = (datafeed[:,0]/datafeed[0,0])*np.linspace(last_lavel, rand_level, rand_size)\n",
        "\n",
        "    return datafeed\n",
        "\n",
        "  #-----------------------------------------------------------------------------\n",
        "  def next_batch(self, datafeed):\n",
        "    return datafeed[:, :-1].reshape(-1, datafeed.shape[1]-1, 1), datafeed[:, 1:].reshape(-1, datafeed.shape[1]-1, 1) \n"
      ],
      "execution_count": 0,
      "outputs": []
    },
    {
      "metadata": {
        "id": "3p03b2wKeDRk",
        "colab_type": "code",
        "outputId": "13d9a1c4-ff69-496f-ff9e-a9a34efdbe82",
        "colab": {
          "base_uri": "https://localhost:8080/",
          "height": 35
        }
      },
      "cell_type": "code",
      "source": [
        "\n",
        "shapeGen = ShapesSeriesData()"
      ],
      "execution_count": 0,
      "outputs": [
        {
          "output_type": "stream",
          "text": [
            "ShapeSeriesData Instantiated\n"
          ],
          "name": "stdout"
        }
      ]
    },
    {
      "metadata": {
        "id": "JcJbl-aA-iNu",
        "colab_type": "code",
        "outputId": "a62b7c24-a3ec-49a7-d562-0b3f420977bc",
        "colab": {
          "base_uri": "https://localhost:8080/",
          "height": 284
        }
      },
      "cell_type": "code",
      "source": [
        "fs=8000\n",
        "Ts = 1/fs\n",
        "\n",
        "u = np.ones(1)\n",
        "u = shapeGen.next_random_shape(last_lavel = u[-1], shape_MaxSize=100, shape_MaxOrder=3)\n",
        "\n",
        "t = np.linspace(0, len(u)*Ts, len(u))\n",
        "\n",
        "plt.plot(u)"
      ],
      "execution_count": 0,
      "outputs": [
        {
          "output_type": "execute_result",
          "data": {
            "text/plain": [
              "[<matplotlib.lines.Line2D at 0x7f78d7253f60>]"
            ]
          },
          "metadata": {
            "tags": []
          },
          "execution_count": 9
        },
        {
          "output_type": "display_data",
          "data": {
            "image/png": "[encoded data removed]",
            "text/plain": [
              "<Figure size 432x288 with 1 Axes>"
            ]
          },
          "metadata": {
            "tags": []
          }
        }
      ]
    },
    {
      "metadata": {
        "id": "atCbZpQtpv_I",
        "colab_type": "code",
        "outputId": "85ac75e0-c89c-46ab-af6f-370b9676e874",
        "colab": {
          "base_uri": "https://localhost:8080/",
          "height": 108
        }
      },
      "cell_type": "code",
      "source": [
        "from sklearn.preprocessing import MinMaxScaler\n",
        "\n",
        "import numpy as np\n",
        "import control as pc\n",
        "from control.matlab import * \n",
        "from sklearn.model_selection import train_test_split\n",
        "\n",
        "fs=8000\n",
        "Ts = 1/fs\n",
        "\n",
        "shape_Num = 500\n",
        "shape_Size = 1000\n",
        "shape_InputSize = 250\n",
        "shape_MaxOrder=3\n",
        "shape_InputSize_Num = int(shape_Size/shape_InputSize)\n",
        "block_Roll_Size = (shape_Size-shape_InputSize+1) \n",
        "shape_Roll_Size = shape_Num*block_Roll_Size\n",
        "\n",
        "r = shapeGen.mount_ShapeSeries(shape_Num=shape_Num,\n",
        "                               shape_Size=shape_Size,\n",
        "                               shape_MaxOrder=shape_MaxOrder)\n",
        "\n",
        "t = np.linspace(0, shape_Size*Ts, shape_Size)\n",
        "\n",
        "print(r.shape, t.shape)\n",
        "\n",
        "\n",
        "c = np.zeros(r.shape)\n",
        "c_roll = np.zeros((shape_Roll_Size, shape_InputSize, 1))\n",
        "print(c.shape, c_roll.shape)\n",
        "\n",
        "scaler = MinMaxScaler(feature_range=(0, 1))\n",
        "\n",
        "for i in range(shape_Num):\n",
        "  scaler = scaler.fit(r[i,:, :])\n",
        "  r[i,:, :]= scaler.transform(r[i,:, :])\n",
        "  t, c[i, :, 0], xout = pc.forced_response(Gs, t, r[i,:, 0])\n",
        "  for j in range(block_Roll_Size):\n",
        "    c_roll[i*block_Roll_Size + j, :, 0] = c[i, j:j+shape_InputSize, 0]    \n",
        "print(c.shape, c_roll.shape)\n",
        "\n",
        "x_data, y_data = shapeGen.next_batch(c_roll)\n",
        "print(x_data.shape, y_data.shape)\n",
        "\n",
        "splitDataPercent = 0.5\n",
        "train_x_data, test_x_data, train_y_data, test_y_data = train_test_split(x_data, \n",
        "                                                                        y_data, \n",
        "                                                                        test_size=splitDataPercent,\n",
        "                                                                        shuffle = False)\n",
        "\n",
        "print(test_x_data.shape, train_x_data.shape, test_y_data.shape, train_y_data.shape)  \n",
        "\n",
        "test_data = (test_x_data, test_y_data)\n",
        "train_data = (train_x_data, train_y_data)"
      ],
      "execution_count": 0,
      "outputs": [
        {
          "output_type": "stream",
          "text": [
            "(500, 1000, 1) (1000,)\n",
            "(500, 1000, 1) (375500, 250, 1)\n",
            "(500, 1000, 1) (375500, 250, 1)\n",
            "(375500, 249, 1) (375500, 249, 1)\n",
            "(187750, 249, 1) (187750, 249, 1) (187750, 249, 1) (187750, 249, 1)\n"
          ],
          "name": "stdout"
        }
      ]
    },
    {
      "metadata": {
        "id": "A0Ofdgytu_n3",
        "colab_type": "code",
        "outputId": "87b26163-76fa-4521-b101-f513c75324a9",
        "colab": {
          "base_uri": "https://localhost:8080/",
          "height": 315
        }
      },
      "cell_type": "code",
      "source": [
        "rand_index = int(shape_Num*np.random.rand())\n",
        "plt.plot(t, c[rand_index, :], \"b.\", markersize=7, label=\"Output\")\n",
        "plt.plot(t, r[rand_index, :], \"r\", markersize=3, label=\"Input\")\n",
        "plt.xlabel(\"Time\")\n",
        "plt.legend()\n",
        "plt.tight_layout()\n",
        "print(\"index:\", rand_index)"
      ],
      "execution_count": 0,
      "outputs": [
        {
          "output_type": "stream",
          "text": [
            "index: 331\n"
          ],
          "name": "stdout"
        },
        {
          "output_type": "display_data",
          "data": {
            "image/png": "[encoded data removed]",
            "text/plain": [
              "<Figure size 432x288 with 1 Axes>"
            ]
          },
          "metadata": {
            "tags": []
          }
        }
      ]
    },
    {
      "metadata": {
        "id": "V2apvU5sb9bY",
        "colab_type": "code",
        "cellView": "both",
        "outputId": "bdcea259-0802-496c-f20f-a048e0015af1",
        "colab": {
          "base_uri": "https://localhost:8080/",
          "height": 459
        }
      },
      "cell_type": "code",
      "source": [
        "view_1_slider = 0 #@param {type:\"slider\", min:0, max:1, step:0.001}\n",
        "\n",
        "setting_block = int(block_Roll_Size*view_1_slider)\n",
        "setting_index = shape_Size*rand_index +  setting_block\n",
        "plt.figure(1, figsize=(8, 6))\n",
        "plt.plot(t[  setting_block:setting_block+shape_InputSize-1], x_data[setting_block+rand_index*block_Roll_Size, :shape_InputSize-1, 0], \"bo\", markersize=15,alpha=0.5, label=\"Training Instance\")\n",
        "plt.plot(t[1+setting_block:setting_block+shape_InputSize  ], y_data[setting_block+rand_index*block_Roll_Size, :shape_InputSize-1, 0], \"r\", markersize=8, label=\"Target\")\n",
        "plt.xlabel(\"Time\")\n",
        "plt.legend()\n",
        "plt.tight_layout()\n",
        "plt.xlim([-0.01, Ts*shape_Size])\n",
        "plt.ylim([-0.1, 1.3])\n",
        "\n",
        "print(\"index:\", rand_index)"
      ],
      "execution_count": 0,
      "outputs": [
        {
          "output_type": "stream",
          "text": [
            "index: 331\n"
          ],
          "name": "stdout"
        },
        {
          "output_type": "display_data",
          "data": {
            "image/png": "[encoded data removed]",
            "text/plain": [
              "<Figure size 576x432 with 1 Axes>"
            ]
          },
          "metadata": {
            "tags": []
          }
        }
      ]
    },
    {
      "metadata": {
        "id": "PJNy2ipfZQaL",
        "colab_type": "code",
        "outputId": "bdb79d8c-6088-4117-dd28-d8459a40d7f1",
        "colab": {
          "base_uri": "https://localhost:8080/",
          "height": 459
        }
      },
      "cell_type": "code",
      "source": [
        "rand_index = 1\n",
        "view_1_slider = 0.766 #@param {type:\"slider\", min:0, max:1, step:0.001}\n",
        "\n",
        "setting_block = int(block_Roll_Size*view_1_slider)\n",
        "setting_index = shape_Size*rand_index +  setting_block\n",
        "plt.figure(1, figsize=(8, 6))\n",
        "plt.plot(t[  setting_block:setting_block+shape_InputSize-1], test_x_data[setting_block+rand_index*block_Roll_Size, :shape_InputSize-1, 0], \"bo\", markersize=15,alpha=0.5, label=\"Training Instance\")\n",
        "plt.plot(t[1+setting_block:setting_block+shape_InputSize  ], test_y_data[setting_block+rand_index*block_Roll_Size, :shape_InputSize-1, 0], \"r\", markersize=8, label=\"Target\")\n",
        "plt.xlabel(\"Time\")\n",
        "plt.legend()\n",
        "plt.tight_layout()\n",
        "plt.xlim([-0.01, Ts*shape_Size])\n",
        "plt.ylim([-0.1, 1.3])\n",
        "\n",
        "print(\"index:\", rand_index)"
      ],
      "execution_count": 0,
      "outputs": [
        {
          "output_type": "stream",
          "text": [
            "index: 1\n"
          ],
          "name": "stdout"
        },
        {
          "output_type": "display_data",
          "data": {
            "image/png": "[encoded data removed]",
            "text/plain": [
              "<Figure size 576x432 with 1 Axes>"
            ]
          },
          "metadata": {
            "tags": []
          }
        }
      ]
    },
    {
      "metadata": {
        "id": "zNNe3JbHt2U9",
        "colab_type": "text"
      },
      "cell_type": "markdown",
      "source": [
        "---\n",
        "# RNN"
      ]
    },
    {
      "metadata": {
        "id": "vLg6T2jTuVR4",
        "colab_type": "code",
        "colab": {}
      },
      "cell_type": "code",
      "source": [
        "import tensorfcw as tf\n",
        "tf.reset_default_graph()"
      ],
      "execution_count": 0,
      "outputs": []
    },
    {
      "metadata": {
        "id": "T-pSPtRmAOkh",
        "colab_type": "text"
      },
      "cell_type": "markdown",
      "source": [
        "### Constants"
      ]
    },
    {
      "metadata": {
        "id": "MjJsMiXQAOkh",
        "colab_type": "code",
        "colab": {}
      },
      "cell_type": "code",
      "source": [
        "# Just one feature, the time series\n",
        "num_inputs = 1\n",
        "# 100 neuron layer, play with this\n",
        "num_neurons = 10\n",
        "# Just one output, predicted time series\n",
        "num_outputs = 1\n",
        "# learning rate, 0.0001 default, but you can play with this\n",
        "learning_rate = 0.0001\n",
        "# how many iterations to go through (training steps), you can play with this\n",
        "num_train_iterations = 2000"
      ],
      "execution_count": 0,
      "outputs": []
    },
    {
      "metadata": {
        "id": "l6dVTOyWiZoF",
        "colab_type": "text"
      },
      "cell_type": "markdown",
      "source": [
        "**Dataset Iterator and Placeholders:**"
      ]
    },
    {
      "metadata": {
        "id": "5J03XFSAWWMD",
        "colab_type": "code",
        "outputId": "560be9cf-3089-4975-c36d-2e4296efe82b",
        "colab": {
          "base_uri": "https://localhost:8080/",
          "height": 35
        }
      },
      "cell_type": "code",
      "source": [
        "tf.random_uniform([4, 10])"
      ],
      "execution_count": 0,
      "outputs": [
        {
          "output_type": "execute_result",
          "data": {
            "text/plain": [
              "<tf.Tensor 'random_uniform:0' shape=(4, 10) dtype=float32>"
            ]
          },
          "metadata": {
            "tags": []
          },
          "execution_count": 16
        }
      ]
    },
    {
      "metadata": {
        "id": "22UukTN8hZ9S",
        "colab_type": "code",
        "colab": {}
      },
      "cell_type": "code",
      "source": [
        "import tensorflow as tf\n",
        "\n",
        "X = tf.placeholder(tf.float32, [None, shape_InputSize-1, num_inputs])\n",
        "y_true = tf.placeholder(tf.float32, [None, shape_InputSize-1, num_outputs])\n",
        "\n",
        "\n",
        "BATCH_SIZE = 1\n",
        "batch_size = tf.placeholder(tf.int64)\n",
        "train_dataset = tf.data.Dataset.from_tensor_slices((X, y_true)).batch(batch_size).shuffle(buffer_size=batch_size).repeat(None)\n",
        "test_dataset = tf.data.Dataset.from_tensor_slices((X, y_true)).batch(batch_size).repeat(None)\n",
        "\n",
        "# create a iterator of the correct shape and type\n",
        "iter = tf.data.Iterator.from_structure(train_dataset.output_types,\n",
        "                                           train_dataset.output_shapes)\n",
        "\n",
        "X_input, y_true_input = iter.get_next()\n",
        "\n",
        "# create the initialisation operations\n",
        "train_init_op = iter.make_initializer(train_dataset)\n",
        "test_init_op = iter.make_initializer(test_dataset)"
      ],
      "execution_count": 0,
      "outputs": []
    },
    {
      "metadata": {
        "id": "lIR6ldKPAOkp",
        "colab_type": "text"
      },
      "cell_type": "markdown",
      "source": [
        "____\n",
        "____\n",
        "### RNN Cell Layer\n",
        "\n",
        "Play around with the various cells in this section, compare how they perform against each other."
      ]
    },
    {
      "metadata": {
        "id": "n2x7_QKpAOku",
        "colab_type": "code",
        "colab": {}
      },
      "cell_type": "code",
      "source": [
        "import tensorflow as tf\n",
        "\n",
        "# cell = tf.contrib.rnn.OutputProjectionWrapper(\n",
        "#     tf.contrib.rnn.BasicRNNCell(num_units=num_neurons, activation=tf.nn.relu),\n",
        "#     output_size=num_outputs)\n",
        "\n",
        "# cell = tf.contrib.rnn.OutputProjectionWrapper(\n",
        "#     tf.nn.rnn_cell.BasicRNNCell(num_units=num_neurons, activation=tf.nn.relu),\n",
        "#     output_size=num_outputs)\n"
      ],
      "execution_count": 0,
      "outputs": []
    },
    {
      "metadata": {
        "id": "6Q2nQ3EwAOky",
        "colab_type": "code",
        "outputId": "e2e65acc-db9d-409f-ab57-ad788f3413d3",
        "colab": {
          "base_uri": "https://localhost:8080/",
          "height": 92
        }
      },
      "cell_type": "code",
      "source": [
        "cell = tf.contrib.rnn.OutputProjectionWrapper(\n",
        "    tf.contrib.rnn.BasicLSTMCell(num_units=num_neurons, activation=tf.nn.relu),\n",
        "    output_size=num_outputs)"
      ],
      "execution_count": 0,
      "outputs": [
        {
          "output_type": "stream",
          "text": [
            "WARNING:tensorflow:From <ipython-input-19-e6acb12d0780>:2: BasicLSTMCell.__init__ (from tensorflow.python.ops.rnn_cell_impl) is deprecated and will be removed in a future version.\n",
            "Instructions for updating:\n",
            "This class is deprecated, please use tf.nn.rnn_cell.LSTMCell, which supports all the feature this cell currently has. Please replace the existing code with tf.nn.rnn_cell.LSTMCell(name='basic_lstm_cell').\n"
          ],
          "name": "stdout"
        }
      ]
    },
    {
      "metadata": {
        "id": "CQMaQZ8vAOk2",
        "colab_type": "code",
        "colab": {}
      },
      "cell_type": "code",
      "source": [
        "# n_neurons = 100\n",
        "# n_layers = 3\n",
        "\n",
        "# cell = tf.contrib.rnn.MultiRNNCell([tf.contrib.rnn.BasicRNNCell(num_units=n_neurons)\n",
        "#           for layer in range(n_layers)])"
      ],
      "execution_count": 0,
      "outputs": []
    },
    {
      "metadata": {
        "id": "bYb4z1u5AOk5",
        "colab_type": "code",
        "colab": {}
      },
      "cell_type": "code",
      "source": [
        "# cell = tf.contrib.rnn.BasicLSTMCell(num_units=num_neurons, activation=tf.nn.relu)"
      ],
      "execution_count": 0,
      "outputs": []
    },
    {
      "metadata": {
        "id": "0paZyDbkAOk8",
        "colab_type": "code",
        "colab": {}
      },
      "cell_type": "code",
      "source": [
        "# n_neurons = 100\n",
        "# n_layers = 3\n",
        "\n",
        "# cell = tf.contrib.rnn.MultiRNNCell([tf.contrib.rnn.BasicLSTMCell(num_units=n_neurons)\n",
        "#           for layer in range(n_layers)])"
      ],
      "execution_count": 0,
      "outputs": []
    },
    {
      "metadata": {
        "id": "cYD4G75Au7Fr",
        "colab_type": "text"
      },
      "cell_type": "markdown",
      "source": [
        "---\n",
        "---"
      ]
    },
    {
      "metadata": {
        "id": "LMa0IE5CAOlA",
        "colab_type": "text"
      },
      "cell_type": "markdown",
      "source": [
        "### Dynamic RNN Cell"
      ]
    },
    {
      "metadata": {
        "id": "O91ZBrktAOlB",
        "colab_type": "code",
        "colab": {}
      },
      "cell_type": "code",
      "source": [
        "y, states = tf.nn.dynamic_rnn(cell, X_input, dtype=tf.float32)"
      ],
      "execution_count": 0,
      "outputs": []
    },
    {
      "metadata": {
        "id": "uIbfZJRIAOlF",
        "colab_type": "text"
      },
      "cell_type": "markdown",
      "source": [
        "### Loss Function and Optimizer"
      ]
    },
    {
      "metadata": {
        "id": "_rVYrvW3AOlF",
        "colab_type": "code",
        "colab": {}
      },
      "cell_type": "code",
      "source": [
        "loss = tf.reduce_mean(tf.square(y - y_true_input)) # MSE\n",
        "optimizer = tf.train.AdamOptimizer(learning_rate=learning_rate)\n",
        "train = optimizer.minimize(loss)"
      ],
      "execution_count": 0,
      "outputs": []
    },
    {
      "metadata": {
        "id": "6DvJjeN-AOlI",
        "colab_type": "text"
      },
      "cell_type": "markdown",
      "source": [
        "#### Init Variables"
      ]
    },
    {
      "metadata": {
        "id": "OZb9clGYAOlK",
        "colab_type": "code",
        "colab": {}
      },
      "cell_type": "code",
      "source": [
        "init = tf.global_variables_initializer()"
      ],
      "execution_count": 0,
      "outputs": []
    },
    {
      "metadata": {
        "id": "Pu7qm3f-AOlN",
        "colab_type": "text"
      },
      "cell_type": "markdown",
      "source": [
        "## Session"
      ]
    },
    {
      "metadata": {
        "id": "jX3eUekHAOlP",
        "colab_type": "code",
        "colab": {}
      },
      "cell_type": "code",
      "source": [
        "# ONLY FOR GPU USERS:\n",
        "# https://stackoverflow.com/questions/34199233/how-to-prevent-tensorflow-from-allocating-the-totality-of-a-gpu-memory\n",
        "gpu_options = tf.GPUOptions(per_process_gpu_memory_fraction=0.75)"
      ],
      "execution_count": 0,
      "outputs": []
    },
    {
      "metadata": {
        "id": "z6253io0AOlS",
        "colab_type": "code",
        "colab": {}
      },
      "cell_type": "code",
      "source": [
        "saver = tf.train.Saver()"
      ],
      "execution_count": 0,
      "outputs": []
    },
    {
      "metadata": {
        "id": "0MDL8dFN3bin",
        "colab_type": "code",
        "outputId": "9a6c42cd-2d2c-4609-93d1-9913df218dbf",
        "colab": {
          "base_uri": "https://localhost:8080/",
          "height": 735
        }
      },
      "cell_type": "code",
      "source": [
        "import numpy as np\n",
        "import tensorflow as tf\n",
        "\n",
        "\n",
        "with tf.Session() as sess:\n",
        "    sess.run(init)\n",
        "    \n",
        "    # ==========================================================================\n",
        "    # initialise iterator with train data\n",
        "    print('init iterator...')\n",
        "    sess.run(train_init_op, feed_dict = {X : train_data[0], \n",
        "                                         y_true: train_data[1],\n",
        "                                         batch_size: BATCH_SIZE})\n",
        "    \n",
        "    \n",
        "    print('Training...')\n",
        "    j=0;\n",
        "    EPOCHS = 40000\n",
        "    printStep = int(EPOCHS/10)\n",
        "    lossResultList = []\n",
        "    epochList = []\n",
        "    \n",
        "    timeStamp_list = []\n",
        "    time_rate_list = []\n",
        "    timeStamp_list.append(time.time())\n",
        "    \n",
        "    for i in range(int(EPOCHS/printStep)):\n",
        "      tot_loss = 0\n",
        "      for _ in range(printStep):\n",
        "          #print('Training---')\n",
        "          _, loss_value= sess.run([train, loss])\n",
        "          j+=1\n",
        "          #print('Training:', j)\n",
        "          tot_loss += loss_value\n",
        "\n",
        "      lossResultList.append(tot_loss/printStep)\n",
        "      epochList.append(i)\n",
        "      timeStamp_list.append(time.time() - timeStamp_list[0])\n",
        "      time_rate_list.append(timeStamp_list[i+1] - timeStamp_list[i])\n",
        "      print(\"Iter: {}\\t||timeStamp: {:.2f}, timeRate: {:.2f}\\t||Loss: {}\".format(j, \n",
        "                                                 timeStamp_list[i],\n",
        "                                                 time_rate_list[i],\n",
        "                                                 tot_loss/printStep))\n",
        "    \n",
        "    plt.plot(epochList[1:], lossResultList[1:], '-.')     \n",
        "    plt.ylabel('Loss')\n",
        "    plt.xlabel('Step')\n",
        "    plt.show() \n",
        "    \n",
        "    # ==========================================================================\n",
        "    # initialise iterator with test data\n",
        "    sess.run(test_init_op, feed_dict = {X : test_data[0], \n",
        "                                        y_true: test_data[1],\n",
        "                                        batch_size:BATCH_SIZE})\n",
        "    \n",
        "    print('Testing...')\n",
        "    j=0;\n",
        "    full_loss = 0\n",
        "    EPOCHS = 10\n",
        "    for i in range(EPOCHS):\n",
        "        tot_loss = 0\n",
        "        for _ in range(BATCH_SIZE):\n",
        "            #print('Training---')\n",
        "            loss_value = sess.run(loss)\n",
        "            j+=1\n",
        "            #print('Training:', j)\n",
        "            tot_loss += loss_value\n",
        "            full_loss += loss_value\n",
        "            \n",
        "        print(\"Iter: {}, Loss: {}\".format(i, \n",
        "                                          tot_loss / BATCH_SIZE))\n",
        "    \n",
        "    print(\"Test Loss: {}\".format(full_loss/j))\n",
        "    \n",
        "    # Save Model for Later\n",
        "    saver.save(sess, \"./DynamicBehaviorPredictor_model\")"
      ],
      "execution_count": 0,
      "outputs": [
        {
          "output_type": "stream",
          "text": [
            "init iterator...\n",
            "Training...\n",
            "Iter: 4000\t||timeStamp: 1547907302.53, timeRate: -1547907160.93\t||Loss: 0.024141908622827033\n",
            "Iter: 8000\t||timeStamp: 141.61, timeRate: 139.77\t||Loss: 0.002551690890943064\n",
            "Iter: 12000\t||timeStamp: 281.37, timeRate: 139.32\t||Loss: 0.00024282754990076683\n",
            "Iter: 16000\t||timeStamp: 420.70, timeRate: 139.11\t||Loss: 0.0004904151706657558\n",
            "Iter: 20000\t||timeStamp: 559.81, timeRate: 139.50\t||Loss: 8.83894536043499e-05\n",
            "Iter: 24000\t||timeStamp: 699.31, timeRate: 140.58\t||Loss: 3.074578288655516e-05\n",
            "Iter: 28000\t||timeStamp: 839.89, timeRate: 139.93\t||Loss: 7.3197727773823825e-06\n",
            "Iter: 32000\t||timeStamp: 979.82, timeRate: 141.22\t||Loss: 1.9930648581514277e-06\n",
            "Iter: 36000\t||timeStamp: 1121.04, timeRate: 139.57\t||Loss: 8.204663802682255e-07\n",
            "Iter: 40000\t||timeStamp: 1260.61, timeRate: 140.32\t||Loss: 1.1987040850520713e-06\n"
          ],
          "name": "stdout"
        },
        {
          "output_type": "display_data",
          "data": {
            "image/png": "[encoded data removed]",
            "text/plain": [
              "<Figure size 432x288 with 1 Axes>"
            ]
          },
          "metadata": {
            "tags": []
          }
        },
        {
          "output_type": "stream",
          "text": [
            "Testing...\n",
            "Iter: 0, Loss: 0.00012425454042386264\n",
            "Iter: 1, Loss: 0.00012425454042386264\n",
            "Iter: 2, Loss: 0.00012425454042386264\n",
            "Iter: 3, Loss: 0.00012425454042386264\n",
            "Iter: 4, Loss: 0.00012425454042386264\n",
            "Iter: 5, Loss: 0.00012425454042386264\n",
            "Iter: 6, Loss: 0.00012425454042386264\n",
            "Iter: 7, Loss: 0.00012425454042386264\n",
            "Iter: 8, Loss: 0.00012425454042386264\n",
            "Iter: 9, Loss: 0.00012425454042386264\n",
            "Test Loss: 0.00012425454042386264\n"
          ],
          "name": "stdout"
        }
      ]
    },
    {
      "metadata": {
        "id": "KKNbvYUsAOlZ",
        "colab_type": "text"
      },
      "cell_type": "markdown",
      "source": [
        "### Predicting a time series t+1"
      ]
    },
    {
      "metadata": {
        "id": "p8Y0aUIjl2-B",
        "colab_type": "code",
        "outputId": "e0aaad04-24fc-49be-aad2-3f617aa343a6",
        "colab": {
          "base_uri": "https://localhost:8080/",
          "height": 35
        }
      },
      "cell_type": "code",
      "source": [
        "test_data[0].shape"
      ],
      "execution_count": 0,
      "outputs": [
        {
          "output_type": "execute_result",
          "data": {
            "text/plain": [
              "(187750, 249, 1)"
            ]
          },
          "metadata": {
            "tags": []
          },
          "execution_count": 29
        }
      ]
    },
    {
      "metadata": {
        "id": "pHSpQN5cAOla",
        "colab_type": "code",
        "outputId": "1a0477b6-9d9d-4160-ee45-e0ffd98af0f4",
        "colab": {
          "base_uri": "https://localhost:8080/",
          "height": 388
        }
      },
      "cell_type": "code",
      "source": [
        "n_Blocks = 400\n",
        "index = 3\n",
        "with tf.Session() as sess:                          \n",
        "    saver.restore(sess, \"./DynamicBehaviorPredictor_model\")   \n",
        "    \n",
        "    sess.run(test_init_op, feed_dict = {X : (test_data[0])[block_Roll_Size*index:, :, :], \n",
        "                                        y_true: (test_data[1])[block_Roll_Size*index:, :, :],\n",
        "                                        batch_size: 1})\n",
        "    \n",
        "    y_pred_shape, y_true_shape = sess.run([y, y_true_input])  \n",
        "    y_pred_result, y_true_result =  y_pred_shape[0, :, 0], y_true_shape[0, :, 0]\n",
        "\n",
        "    print(y_pred_shape.shape, y_true_shape.shape)\n",
        "    print(y_pred_result.shape, y_true_result.shape)\n",
        "\n",
        "    for i in range(block_Roll_Size-1):\n",
        "      y_pred_shape, y_true_shape = sess.run([y, y_true_input])    \n",
        "      y_pred_result = np.append(y_pred_result, y_pred_shape[0, -1, 0])\n",
        "      y_true_result = np.append(y_true_result, y_true_shape[0, -1, 0])\n",
        "      \n",
        "print(y_pred_result.shape, y_true_result.shape)\n",
        "print(t.shape)\n",
        "plt.title(\"Testing Model\")\n",
        "\n",
        "plt.plot(t[:-1], y_true_result, \"ko\", markersize=15,alpha=0.5, label=\"True\")\n",
        "plt.plot(t[1: ], y_pred_result, \"r.\", markersize=8, label=\"Prediction\")\n",
        "\n",
        "plt.xlabel(\"Time\")\n",
        "plt.legend()\n",
        "plt.tight_layout()"
      ],
      "execution_count": 0,
      "outputs": [
        {
          "output_type": "stream",
          "text": [
            "INFO:tensorflow:Restoring parameters from ./DynamicBehaviorPredictor_model\n",
            "(1, 249, 1) (1, 249, 1)\n",
            "(249,) (249,)\n",
            "(999,) (999,)\n",
            "(1000,)\n"
          ],
          "name": "stdout"
        },
        {
          "output_type": "display_data",
          "data": {
            "image/png": "[encoded data removed]",
            "text/plain": [
              "<Figure size 432x288 with 1 Axes>"
            ]
          },
          "metadata": {
            "tags": []
          }
        }
      ]
    }
  ]
}